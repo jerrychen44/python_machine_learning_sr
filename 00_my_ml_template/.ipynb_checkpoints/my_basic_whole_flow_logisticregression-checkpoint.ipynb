{
 "cells": [
  {
   "cell_type": "code",
   "execution_count": 2,
   "metadata": {
    "collapsed": false
   },
   "outputs": [],
   "source": [
    "import pandas as pd\n",
    "import os,sys\n",
    "import numpy as np\n",
    "import matplotlib.pyplot as plt\n"
   ]
  },
  {
   "cell_type": "code",
   "execution_count": 7,
   "metadata": {
    "collapsed": false
   },
   "outputs": [],
   "source": [
    "def read_data():\n",
    "\n",
    "\n",
    "    \n",
    "    #read from csv\n",
    "    filepath=os.path.dirname(os.path.realpath(\"__file__\"))#root, where the apk_integration_test.py file is.\n",
    "    source_folder='source'\n",
    "    data_csv_path=filepath+'/'+source_folder+'/training-data-small.txt'\n",
    "    df = pd.read_table(data_csv_path, header=None,low_memory=False)\n",
    "    print(data_csv_path)\n",
    "    \n",
    "    #data_csv_path=filepath+'/'+source_folder+'training-data-small_full.csv\"\n",
    "    #df = pd.read_csv(data_csv_path, header=None,low_memory=False)\n",
    "    #print(df.head())\n",
    "    #print(df.shape)\n",
    "\n",
    "\n",
    "    return df\n"
   ]
  },
  {
   "cell_type": "code",
   "execution_count": 9,
   "metadata": {
    "collapsed": false
   },
   "outputs": [
    {
     "name": "stdout",
     "output_type": "stream",
     "text": [
      "/Users/jerrychen/Documents/github/my_ml_template/source/training-data-small.txt\n"
     ]
    },
    {
     "data": {
      "text/html": [
       "<div>\n",
       "<table border=\"1\" class=\"dataframe\">\n",
       "  <thead>\n",
       "    <tr style=\"text-align: right;\">\n",
       "      <th></th>\n",
       "      <th>0</th>\n",
       "      <th>1</th>\n",
       "    </tr>\n",
       "  </thead>\n",
       "  <tbody>\n",
       "    <tr>\n",
       "      <th>0</th>\n",
       "      <td>0</td>\n",
       "      <td>X773579,Y2640,Y2072,Z4,Z15</td>\n",
       "    </tr>\n",
       "    <tr>\n",
       "      <th>1</th>\n",
       "      <td>0</td>\n",
       "      <td>X166074297,X123474229,X147204623,X51578397,X23...</td>\n",
       "    </tr>\n",
       "    <tr>\n",
       "      <th>2</th>\n",
       "      <td>1</td>\n",
       "      <td>X374616379,X773579,X344420902,Y1940,Y1705,Z4,Z...</td>\n",
       "    </tr>\n",
       "    <tr>\n",
       "      <th>3</th>\n",
       "      <td>0</td>\n",
       "      <td>X103413307,X37875376,X62716332,X277692318,X344...</td>\n",
       "    </tr>\n",
       "    <tr>\n",
       "      <th>4</th>\n",
       "      <td>0</td>\n",
       "      <td>X123474229,X551805107,X62716661,Y2307,Y2,Y1222...</td>\n",
       "    </tr>\n",
       "  </tbody>\n",
       "</table>\n",
       "</div>"
      ],
      "text/plain": [
       "   0                                                  1\n",
       "0  0                         X773579,Y2640,Y2072,Z4,Z15\n",
       "1  0  X166074297,X123474229,X147204623,X51578397,X23...\n",
       "2  1  X374616379,X773579,X344420902,Y1940,Y1705,Z4,Z...\n",
       "3  0  X103413307,X37875376,X62716332,X277692318,X344...\n",
       "4  0  X123474229,X551805107,X62716661,Y2307,Y2,Y1222..."
      ]
     },
     "execution_count": 9,
     "metadata": {},
     "output_type": "execute_result"
    }
   ],
   "source": [
    "df=read_data()\n",
    "df.head()"
   ]
  },
  {
   "cell_type": "markdown",
   "metadata": {},
   "source": [
    "# Preprocess remove , "
   ]
  },
  {
   "cell_type": "code",
   "execution_count": 4,
   "metadata": {
    "collapsed": true
   },
   "outputs": [],
   "source": [
    "import re\n",
    "def preprocessor(text):\n",
    "    text = re.sub('<[^>]*>', '', text)\n",
    "    emoticons = re.findall('(?::|;|=)(?:-)?(?:\\)|\\(|D|P)', text)\n",
    "    text = re.sub('[\\W]+', ' ', text.lower()) + \\\n",
    "           ' '.join(emoticons).replace('-', '')\n",
    "    return text"
   ]
  },
  {
   "cell_type": "code",
   "execution_count": 5,
   "metadata": {
    "collapsed": false
   },
   "outputs": [
    {
     "name": "stdout",
     "output_type": "stream",
     "text": [
      "   0                                                  1\n",
      "0  0                         X773579,Y2640,Y2072,Z4,Z15\n",
      "1  0  X166074297,X123474229,X147204623,X51578397,X23...\n",
      "2  1  X374616379,X773579,X344420902,Y1940,Y1705,Z4,Z...\n",
      "3  0  X103413307,X37875376,X62716332,X277692318,X344...\n",
      "4  0  X123474229,X551805107,X62716661,Y2307,Y2,Y1222...\n",
      "   0                                                  1\n",
      "0  0                         x773579 y2640 y2072 z4 z15\n",
      "1  0  x166074297 x123474229 x147204623 x51578397 x23...\n",
      "2  1  x374616379 x773579 x344420902 y1940 y1705 z4 z...\n",
      "3  0  x103413307 x37875376 x62716332 x277692318 x344...\n",
      "4  0  x123474229 x551805107 x62716661 y2307 y2 y1222...\n"
     ]
    }
   ],
   "source": [
    "print(df.head())\n",
    "df[1] = df[1].apply(preprocessor)\n",
    "print(df.head())\n"
   ]
  },
  {
   "cell_type": "code",
   "execution_count": 7,
   "metadata": {
    "collapsed": false
   },
   "outputs": [
    {
     "name": "stdout",
     "output_type": "stream",
     "text": [
      "x773579 y2640 y2072 z4 z15\n",
      "(10000,) <class 'numpy.ndarray'>\n",
      "(10000,) <class 'numpy.ndarray'>\n"
     ]
    }
   ],
   "source": [
    "##########\n",
    "# separate X and y \n",
    "##########\n",
    "X = df.iloc[:, 1].values\n",
    "y = df.iloc[:, 0].values\n",
    "print(X[0])\n",
    "print(X.shape,type(X))\n",
    "print(y.shape,type(y))\n"
   ]
  },
  {
   "cell_type": "markdown",
   "metadata": {},
   "source": [
    "## Transforming documents into feature vectors"
   ]
  },
  {
   "cell_type": "code",
   "execution_count": 8,
   "metadata": {
    "collapsed": false
   },
   "outputs": [
    {
     "name": "stdout",
     "output_type": "stream",
     "text": [
      "125 {'y1206': 52, 'z7': 123, 'y2814': 85, 'y2949': 88, 'y3346': 97, 'y2267': 74, 'x420128991': 32, 'y2641': 79, 'y2072': 71, 'y2257': 73, 'x79805718': 48, 'y1486': 60, 'x147204623': 8, 'y1478': 59, 'x299064116': 17, 'y3269': 96, 'x315340932': 19, 'x37875376': 27, 'y3232': 93, 'x225006700': 13, 'x104964213': 2, 'x174205309': 10, 'x127972441': 6, 'x326209': 21, 'x337793919': 22, 'y1468': 58, 'y2557': 77, 'x236398246': 14, 'y1940': 68, 'y2024': 70, 'z27': 116, 'x773579': 47, 'y3141': 90, 'y1522': 61, 'z8': 124, 'y2170': 72, 'x62716661': 44, 'x123474229': 4, 'z23': 112, 'y3143': 91, 'x315968790': 20, 'x56982947': 42, 'y2817': 86, 'z26': 115, 'x40087738': 29, 'y2680': 81, 'z12': 100, 'y2667': 80, 'x367227997': 25, 'x538427688': 39, 'z25': 114, 'y1791': 67, 'z6': 122, 'x374616379': 26, 'y1555': 62, 'y1238': 54, 'y1367': 56, 'x551805107': 40, 'x51578397': 36, 'x283926738': 16, 'z15': 103, 'y2793': 83, 'y3021': 89, 'y3145': 92, 'z17': 105, 'y3233': 94, 'x48786947': 35, 'x127436348': 5, 'y2640': 78, 'x341033099': 23, 'z2': 108, 'x41787959': 31, 'y3250': 95, 'x62718521': 45, 'y1222': 53, 'x89474323': 49, 'x137608184': 7, 'z29': 118, 'x344420902': 24, 'x773545': 46, 'y1705': 65, 'z20': 109, 'x103413307': 0, 'y1702': 64, 'x216091985': 12, 'z18': 106, 'y1456': 57, 'x524837224': 38, 'y2849': 87, 'x51769735': 37, 'y2794': 84, 'x442767451': 34, 'y1353': 55, 'z24': 113, 'z16': 104, 'y2307': 75, 'z19': 107, 'y1080': 50, 'z13': 101, 'x104923833': 1, 'x564074277': 41, 'z3': 119, 'y3585': 98, 'y1690': 63, 'x62716332': 43, 'z4': 121, 'y2684': 82, 'x40087170': 28, 'x166074297': 9, 'x277692318': 15, 'y977': 99, 'x417167762': 30, 'y2': 69, 'y1132': 51, 'y1725': 66, 'z28': 117, 'x18006172': 11, 'x44092910': 33, 'z21': 110, 'z14': 102, 'z22': 111, 'x117371326': 3, 'z30': 120, 'x302743259': 18, 'y2321': 76}\n",
      "[0 0 0 0 1 1 0 1 1 1 0 0 0 0 1 1 1 1 0 0 1 0 0 0 1 0 0 0 0 0 1 0 0 1 0 1 1\n",
      " 1 0 0 1 0 1 0 0 0 0 0 0 0 0 0 0 0 0 0 0 0 0 0 0 0 0 0 0 0 0 0 0 0 0 0 0 1\n",
      " 1 1 1 0 0 0 0 1 0 1 1 0 1 0 0 1 0 1 0 1 0 0 1 0 0 0 0 0 0 1 0 0 0 0 0 0 0\n",
      " 0 0 0 0 0 0 0 0 0 0 1 0 0 0] (10000, 125)\n"
     ]
    },
    {
     "data": {
      "text/html": [
       "<div>\n",
       "<table border=\"1\" class=\"dataframe\">\n",
       "  <thead>\n",
       "    <tr style=\"text-align: right;\">\n",
       "      <th></th>\n",
       "      <th>0</th>\n",
       "      <th>1</th>\n",
       "      <th>2</th>\n",
       "      <th>3</th>\n",
       "      <th>4</th>\n",
       "      <th>5</th>\n",
       "      <th>6</th>\n",
       "      <th>7</th>\n",
       "      <th>8</th>\n",
       "      <th>9</th>\n",
       "      <th>...</th>\n",
       "      <th>115</th>\n",
       "      <th>116</th>\n",
       "      <th>117</th>\n",
       "      <th>118</th>\n",
       "      <th>119</th>\n",
       "      <th>120</th>\n",
       "      <th>121</th>\n",
       "      <th>122</th>\n",
       "      <th>123</th>\n",
       "      <th>124</th>\n",
       "    </tr>\n",
       "  </thead>\n",
       "  <tbody>\n",
       "    <tr>\n",
       "      <th>0</th>\n",
       "      <td>0</td>\n",
       "      <td>0</td>\n",
       "      <td>0</td>\n",
       "      <td>0</td>\n",
       "      <td>0</td>\n",
       "      <td>0</td>\n",
       "      <td>0</td>\n",
       "      <td>0</td>\n",
       "      <td>0</td>\n",
       "      <td>0</td>\n",
       "      <td>...</td>\n",
       "      <td>0</td>\n",
       "      <td>0</td>\n",
       "      <td>0</td>\n",
       "      <td>0</td>\n",
       "      <td>0</td>\n",
       "      <td>0</td>\n",
       "      <td>1</td>\n",
       "      <td>0</td>\n",
       "      <td>0</td>\n",
       "      <td>0</td>\n",
       "    </tr>\n",
       "    <tr>\n",
       "      <th>1</th>\n",
       "      <td>0</td>\n",
       "      <td>0</td>\n",
       "      <td>0</td>\n",
       "      <td>0</td>\n",
       "      <td>1</td>\n",
       "      <td>1</td>\n",
       "      <td>0</td>\n",
       "      <td>1</td>\n",
       "      <td>1</td>\n",
       "      <td>1</td>\n",
       "      <td>...</td>\n",
       "      <td>0</td>\n",
       "      <td>0</td>\n",
       "      <td>0</td>\n",
       "      <td>0</td>\n",
       "      <td>0</td>\n",
       "      <td>0</td>\n",
       "      <td>1</td>\n",
       "      <td>0</td>\n",
       "      <td>0</td>\n",
       "      <td>0</td>\n",
       "    </tr>\n",
       "    <tr>\n",
       "      <th>2</th>\n",
       "      <td>0</td>\n",
       "      <td>0</td>\n",
       "      <td>0</td>\n",
       "      <td>0</td>\n",
       "      <td>0</td>\n",
       "      <td>0</td>\n",
       "      <td>0</td>\n",
       "      <td>0</td>\n",
       "      <td>0</td>\n",
       "      <td>0</td>\n",
       "      <td>...</td>\n",
       "      <td>1</td>\n",
       "      <td>0</td>\n",
       "      <td>0</td>\n",
       "      <td>0</td>\n",
       "      <td>0</td>\n",
       "      <td>0</td>\n",
       "      <td>1</td>\n",
       "      <td>0</td>\n",
       "      <td>0</td>\n",
       "      <td>0</td>\n",
       "    </tr>\n",
       "    <tr>\n",
       "      <th>3</th>\n",
       "      <td>1</td>\n",
       "      <td>0</td>\n",
       "      <td>0</td>\n",
       "      <td>0</td>\n",
       "      <td>0</td>\n",
       "      <td>1</td>\n",
       "      <td>0</td>\n",
       "      <td>0</td>\n",
       "      <td>0</td>\n",
       "      <td>0</td>\n",
       "      <td>...</td>\n",
       "      <td>0</td>\n",
       "      <td>0</td>\n",
       "      <td>0</td>\n",
       "      <td>0</td>\n",
       "      <td>0</td>\n",
       "      <td>0</td>\n",
       "      <td>1</td>\n",
       "      <td>0</td>\n",
       "      <td>0</td>\n",
       "      <td>0</td>\n",
       "    </tr>\n",
       "    <tr>\n",
       "      <th>4</th>\n",
       "      <td>0</td>\n",
       "      <td>0</td>\n",
       "      <td>0</td>\n",
       "      <td>0</td>\n",
       "      <td>1</td>\n",
       "      <td>0</td>\n",
       "      <td>0</td>\n",
       "      <td>0</td>\n",
       "      <td>0</td>\n",
       "      <td>0</td>\n",
       "      <td>...</td>\n",
       "      <td>0</td>\n",
       "      <td>0</td>\n",
       "      <td>0</td>\n",
       "      <td>0</td>\n",
       "      <td>0</td>\n",
       "      <td>1</td>\n",
       "      <td>1</td>\n",
       "      <td>0</td>\n",
       "      <td>0</td>\n",
       "      <td>0</td>\n",
       "    </tr>\n",
       "  </tbody>\n",
       "</table>\n",
       "<p>5 rows × 125 columns</p>\n",
       "</div>"
      ],
      "text/plain": [
       "   0    1    2    3    4    5    6    7    8    9   ...   115  116  117  118  \\\n",
       "0    0    0    0    0    0    0    0    0    0    0 ...     0    0    0    0   \n",
       "1    0    0    0    0    1    1    0    1    1    1 ...     0    0    0    0   \n",
       "2    0    0    0    0    0    0    0    0    0    0 ...     1    0    0    0   \n",
       "3    1    0    0    0    0    1    0    0    0    0 ...     0    0    0    0   \n",
       "4    0    0    0    0    1    0    0    0    0    0 ...     0    0    0    0   \n",
       "\n",
       "   119  120  121  122  123  124  \n",
       "0    0    0    1    0    0    0  \n",
       "1    0    0    1    0    0    0  \n",
       "2    0    0    1    0    0    0  \n",
       "3    0    0    1    0    0    0  \n",
       "4    0    1    1    0    0    0  \n",
       "\n",
       "[5 rows x 125 columns]"
      ]
     },
     "execution_count": 8,
     "metadata": {},
     "output_type": "execute_result"
    }
   ],
   "source": [
    "from sklearn.feature_extraction.text import CountVectorizer\n",
    "count = CountVectorizer()\n",
    "#print(count)\n",
    "bag = count.fit_transform(X)\n",
    "print(len(count.vocabulary_),count.vocabulary_)\n",
    "#check the first 1 data\n",
    "print(bag.toarray()[1],bag.toarray().shape)\n",
    "\n",
    "# for keeping connect\n",
    "df_tfidf=pd.DataFrame(bag.toarray().tolist())\n",
    "#print(df_tfidf.shape)\n",
    "df_tfidf.head()\n"
   ]
  },
  {
   "cell_type": "markdown",
   "metadata": {},
   "source": [
    "# create feature"
   ]
  },
  {
   "cell_type": "code",
   "execution_count": 9,
   "metadata": {
    "collapsed": false
   },
   "outputs": [
    {
     "data": {
      "text/html": [
       "<div>\n",
       "<table border=\"1\" class=\"dataframe\">\n",
       "  <thead>\n",
       "    <tr style=\"text-align: right;\">\n",
       "      <th></th>\n",
       "      <th>0</th>\n",
       "      <th>1</th>\n",
       "      <th>2</th>\n",
       "      <th>3</th>\n",
       "      <th>4</th>\n",
       "      <th>5</th>\n",
       "      <th>6</th>\n",
       "      <th>7</th>\n",
       "      <th>8</th>\n",
       "      <th>9</th>\n",
       "      <th>...</th>\n",
       "      <th>116</th>\n",
       "      <th>117</th>\n",
       "      <th>118</th>\n",
       "      <th>119</th>\n",
       "      <th>120</th>\n",
       "      <th>121</th>\n",
       "      <th>122</th>\n",
       "      <th>123</th>\n",
       "      <th>124</th>\n",
       "      <th>125</th>\n",
       "    </tr>\n",
       "  </thead>\n",
       "  <tbody>\n",
       "    <tr>\n",
       "      <th>0</th>\n",
       "      <td>0</td>\n",
       "      <td>0</td>\n",
       "      <td>0</td>\n",
       "      <td>0</td>\n",
       "      <td>0</td>\n",
       "      <td>0</td>\n",
       "      <td>0</td>\n",
       "      <td>0</td>\n",
       "      <td>0</td>\n",
       "      <td>0</td>\n",
       "      <td>...</td>\n",
       "      <td>0</td>\n",
       "      <td>0</td>\n",
       "      <td>0</td>\n",
       "      <td>0</td>\n",
       "      <td>0</td>\n",
       "      <td>1</td>\n",
       "      <td>0</td>\n",
       "      <td>0</td>\n",
       "      <td>0</td>\n",
       "      <td>5</td>\n",
       "    </tr>\n",
       "    <tr>\n",
       "      <th>1</th>\n",
       "      <td>0</td>\n",
       "      <td>0</td>\n",
       "      <td>0</td>\n",
       "      <td>0</td>\n",
       "      <td>1</td>\n",
       "      <td>1</td>\n",
       "      <td>0</td>\n",
       "      <td>1</td>\n",
       "      <td>1</td>\n",
       "      <td>1</td>\n",
       "      <td>...</td>\n",
       "      <td>0</td>\n",
       "      <td>0</td>\n",
       "      <td>0</td>\n",
       "      <td>0</td>\n",
       "      <td>0</td>\n",
       "      <td>1</td>\n",
       "      <td>0</td>\n",
       "      <td>0</td>\n",
       "      <td>0</td>\n",
       "      <td>32</td>\n",
       "    </tr>\n",
       "    <tr>\n",
       "      <th>2</th>\n",
       "      <td>0</td>\n",
       "      <td>0</td>\n",
       "      <td>0</td>\n",
       "      <td>0</td>\n",
       "      <td>0</td>\n",
       "      <td>0</td>\n",
       "      <td>0</td>\n",
       "      <td>0</td>\n",
       "      <td>0</td>\n",
       "      <td>0</td>\n",
       "      <td>...</td>\n",
       "      <td>0</td>\n",
       "      <td>0</td>\n",
       "      <td>0</td>\n",
       "      <td>0</td>\n",
       "      <td>0</td>\n",
       "      <td>1</td>\n",
       "      <td>0</td>\n",
       "      <td>0</td>\n",
       "      <td>0</td>\n",
       "      <td>8</td>\n",
       "    </tr>\n",
       "    <tr>\n",
       "      <th>3</th>\n",
       "      <td>1</td>\n",
       "      <td>0</td>\n",
       "      <td>0</td>\n",
       "      <td>0</td>\n",
       "      <td>0</td>\n",
       "      <td>1</td>\n",
       "      <td>0</td>\n",
       "      <td>0</td>\n",
       "      <td>0</td>\n",
       "      <td>0</td>\n",
       "      <td>...</td>\n",
       "      <td>0</td>\n",
       "      <td>0</td>\n",
       "      <td>0</td>\n",
       "      <td>0</td>\n",
       "      <td>0</td>\n",
       "      <td>1</td>\n",
       "      <td>0</td>\n",
       "      <td>0</td>\n",
       "      <td>0</td>\n",
       "      <td>49</td>\n",
       "    </tr>\n",
       "    <tr>\n",
       "      <th>4</th>\n",
       "      <td>0</td>\n",
       "      <td>0</td>\n",
       "      <td>0</td>\n",
       "      <td>0</td>\n",
       "      <td>1</td>\n",
       "      <td>0</td>\n",
       "      <td>0</td>\n",
       "      <td>0</td>\n",
       "      <td>0</td>\n",
       "      <td>0</td>\n",
       "      <td>...</td>\n",
       "      <td>0</td>\n",
       "      <td>0</td>\n",
       "      <td>0</td>\n",
       "      <td>0</td>\n",
       "      <td>1</td>\n",
       "      <td>1</td>\n",
       "      <td>0</td>\n",
       "      <td>0</td>\n",
       "      <td>0</td>\n",
       "      <td>33</td>\n",
       "    </tr>\n",
       "  </tbody>\n",
       "</table>\n",
       "<p>5 rows × 126 columns</p>\n",
       "</div>"
      ],
      "text/plain": [
       "   0  1  2  3  4  5  6  7  8  9 ...   116  117  118  119  120  121  122  123  \\\n",
       "0  0  0  0  0  0  0  0  0  0  0 ...     0    0    0    0    0    1    0    0   \n",
       "1  0  0  0  0  1  1  0  1  1  1 ...     0    0    0    0    0    1    0    0   \n",
       "2  0  0  0  0  0  0  0  0  0  0 ...     0    0    0    0    0    1    0    0   \n",
       "3  1  0  0  0  0  1  0  0  0  0 ...     0    0    0    0    0    1    0    0   \n",
       "4  0  0  0  0  1  0  0  0  0  0 ...     0    0    0    0    1    1    0    0   \n",
       "\n",
       "   124  125  \n",
       "0    0    5  \n",
       "1    0   32  \n",
       "2    0    8  \n",
       "3    0   49  \n",
       "4    0   33  \n",
       "\n",
       "[5 rows x 126 columns]"
      ]
     },
     "execution_count": 9,
     "metadata": {},
     "output_type": "execute_result"
    }
   ],
   "source": [
    "# column 125= (number of non-zero item)/125\n",
    "\n",
    "new_df= (df_tfidf > 0).astype(int).sum(axis=1)\n",
    "#print(type(new_df.to_frame()))\n",
    "new_df=new_df.to_frame()\n",
    "new_df.columns=['125']\n",
    "df_tfidf = pd.concat([df_tfidf,new_df], axis=1)\n",
    "df_tfidf.head()\n",
    "\n",
    "\n",
    "#print(df_tfidf.shape)\n",
    "#df_tfidf.head()"
   ]
  },
  {
   "cell_type": "code",
   "execution_count": 10,
   "metadata": {
    "collapsed": false
   },
   "outputs": [
    {
     "name": "stdout",
     "output_type": "stream",
     "text": [
      "(10000, 101)\n"
     ]
    },
    {
     "data": {
      "text/html": [
       "<div>\n",
       "<table border=\"1\" class=\"dataframe\">\n",
       "  <thead>\n",
       "    <tr style=\"text-align: right;\">\n",
       "      <th></th>\n",
       "      <th>1</th>\n",
       "      <th>2</th>\n",
       "      <th>3</th>\n",
       "      <th>4</th>\n",
       "      <th>5</th>\n",
       "      <th>6</th>\n",
       "      <th>7</th>\n",
       "      <th>8</th>\n",
       "      <th>9</th>\n",
       "      <th>10</th>\n",
       "      <th>...</th>\n",
       "      <th>91</th>\n",
       "      <th>92</th>\n",
       "      <th>93</th>\n",
       "      <th>94</th>\n",
       "      <th>95</th>\n",
       "      <th>96</th>\n",
       "      <th>97</th>\n",
       "      <th>98</th>\n",
       "      <th>99</th>\n",
       "      <th>100</th>\n",
       "    </tr>\n",
       "  </thead>\n",
       "  <tbody>\n",
       "    <tr>\n",
       "      <th>0</th>\n",
       "      <td>X773579</td>\n",
       "      <td>Y2640</td>\n",
       "      <td>Y2072</td>\n",
       "      <td>Z4</td>\n",
       "      <td>Z15</td>\n",
       "      <td>NaN</td>\n",
       "      <td>NaN</td>\n",
       "      <td>NaN</td>\n",
       "      <td>NaN</td>\n",
       "      <td>NaN</td>\n",
       "      <td>...</td>\n",
       "      <td>NaN</td>\n",
       "      <td>NaN</td>\n",
       "      <td>NaN</td>\n",
       "      <td>NaN</td>\n",
       "      <td>NaN</td>\n",
       "      <td>NaN</td>\n",
       "      <td>NaN</td>\n",
       "      <td>NaN</td>\n",
       "      <td>NaN</td>\n",
       "      <td>NaN</td>\n",
       "    </tr>\n",
       "    <tr>\n",
       "      <th>1</th>\n",
       "      <td>X166074297</td>\n",
       "      <td>X123474229</td>\n",
       "      <td>X147204623</td>\n",
       "      <td>X51578397</td>\n",
       "      <td>X236398246</td>\n",
       "      <td>X277692318</td>\n",
       "      <td>X127436348</td>\n",
       "      <td>X551805107</td>\n",
       "      <td>X344420902</td>\n",
       "      <td>X48786947</td>\n",
       "      <td>...</td>\n",
       "      <td>NaN</td>\n",
       "      <td>NaN</td>\n",
       "      <td>NaN</td>\n",
       "      <td>NaN</td>\n",
       "      <td>NaN</td>\n",
       "      <td>NaN</td>\n",
       "      <td>NaN</td>\n",
       "      <td>NaN</td>\n",
       "      <td>NaN</td>\n",
       "      <td>NaN</td>\n",
       "    </tr>\n",
       "    <tr>\n",
       "      <th>2</th>\n",
       "      <td>X374616379</td>\n",
       "      <td>X773579</td>\n",
       "      <td>X344420902</td>\n",
       "      <td>Y1940</td>\n",
       "      <td>Y1705</td>\n",
       "      <td>Z4</td>\n",
       "      <td>Z15</td>\n",
       "      <td>Z26</td>\n",
       "      <td>NaN</td>\n",
       "      <td>NaN</td>\n",
       "      <td>...</td>\n",
       "      <td>NaN</td>\n",
       "      <td>NaN</td>\n",
       "      <td>NaN</td>\n",
       "      <td>NaN</td>\n",
       "      <td>NaN</td>\n",
       "      <td>NaN</td>\n",
       "      <td>NaN</td>\n",
       "      <td>NaN</td>\n",
       "      <td>NaN</td>\n",
       "      <td>NaN</td>\n",
       "    </tr>\n",
       "    <tr>\n",
       "      <th>3</th>\n",
       "      <td>X103413307</td>\n",
       "      <td>X37875376</td>\n",
       "      <td>X62716332</td>\n",
       "      <td>X277692318</td>\n",
       "      <td>X344420902</td>\n",
       "      <td>X127436348</td>\n",
       "      <td>Y3269</td>\n",
       "      <td>Y1353</td>\n",
       "      <td>Y2949</td>\n",
       "      <td>Y2814</td>\n",
       "      <td>...</td>\n",
       "      <td>NaN</td>\n",
       "      <td>NaN</td>\n",
       "      <td>NaN</td>\n",
       "      <td>NaN</td>\n",
       "      <td>NaN</td>\n",
       "      <td>NaN</td>\n",
       "      <td>NaN</td>\n",
       "      <td>NaN</td>\n",
       "      <td>NaN</td>\n",
       "      <td>NaN</td>\n",
       "    </tr>\n",
       "    <tr>\n",
       "      <th>4</th>\n",
       "      <td>X123474229</td>\n",
       "      <td>X551805107</td>\n",
       "      <td>X62716661</td>\n",
       "      <td>Y2307</td>\n",
       "      <td>Y2</td>\n",
       "      <td>Y1222</td>\n",
       "      <td>Y2849</td>\n",
       "      <td>Y1478</td>\n",
       "      <td>Y2321</td>\n",
       "      <td>Y3145</td>\n",
       "      <td>...</td>\n",
       "      <td>NaN</td>\n",
       "      <td>NaN</td>\n",
       "      <td>NaN</td>\n",
       "      <td>NaN</td>\n",
       "      <td>NaN</td>\n",
       "      <td>NaN</td>\n",
       "      <td>NaN</td>\n",
       "      <td>NaN</td>\n",
       "      <td>NaN</td>\n",
       "      <td>NaN</td>\n",
       "    </tr>\n",
       "  </tbody>\n",
       "</table>\n",
       "<p>5 rows × 100 columns</p>\n",
       "</div>"
      ],
      "text/plain": [
       "          1           2           3           4           5           6    \\\n",
       "0     X773579       Y2640       Y2072          Z4         Z15         NaN   \n",
       "1  X166074297  X123474229  X147204623   X51578397  X236398246  X277692318   \n",
       "2  X374616379     X773579  X344420902       Y1940       Y1705          Z4   \n",
       "3  X103413307   X37875376   X62716332  X277692318  X344420902  X127436348   \n",
       "4  X123474229  X551805107   X62716661       Y2307          Y2       Y1222   \n",
       "\n",
       "          7           8           9          10  ...   91   92   93   94   \\\n",
       "0         NaN         NaN         NaN        NaN ...   NaN  NaN  NaN  NaN   \n",
       "1  X127436348  X551805107  X344420902  X48786947 ...   NaN  NaN  NaN  NaN   \n",
       "2         Z15         Z26         NaN        NaN ...   NaN  NaN  NaN  NaN   \n",
       "3       Y3269       Y1353       Y2949      Y2814 ...   NaN  NaN  NaN  NaN   \n",
       "4       Y2849       Y1478       Y2321      Y3145 ...   NaN  NaN  NaN  NaN   \n",
       "\n",
       "   95   96   97   98   99   100  \n",
       "0  NaN  NaN  NaN  NaN  NaN  NaN  \n",
       "1  NaN  NaN  NaN  NaN  NaN  NaN  \n",
       "2  NaN  NaN  NaN  NaN  NaN  NaN  \n",
       "3  NaN  NaN  NaN  NaN  NaN  NaN  \n",
       "4  NaN  NaN  NaN  NaN  NaN  NaN  \n",
       "\n",
       "[5 rows x 100 columns]"
      ]
     },
     "execution_count": 10,
     "metadata": {},
     "output_type": "execute_result"
    }
   ],
   "source": [
    "filepath=os.path.dirname(os.path.realpath(\"__file__\"))#root, where the apk_integration_test.py file is.\n",
    "source_folder='source'\n",
    "data_csv_path=filepath+'/'+source_folder+'/training-data-small_full.csv'\n",
    "#data_csv_path='/Users/jerrychen/Documents/career/oversea/line/line/mine/machinelearning/Machine_Learning_Engineer_Pre-Test_NEW_TEST.zip/problem1_small/source/training-data-small_full.csv'\n",
    "df_2 = pd.read_csv(data_csv_path, header=None,low_memory=False)\n",
    "print(df_2.shape)\n",
    "del df_2[0]\n",
    "df_2.head()"
   ]
  },
  {
   "cell_type": "code",
   "execution_count": 11,
   "metadata": {
    "collapsed": false
   },
   "outputs": [
    {
     "data": {
      "text/html": [
       "<div>\n",
       "<table border=\"1\" class=\"dataframe\">\n",
       "  <thead>\n",
       "    <tr style=\"text-align: right;\">\n",
       "      <th></th>\n",
       "      <th>0</th>\n",
       "      <th>1</th>\n",
       "      <th>2</th>\n",
       "      <th>3</th>\n",
       "      <th>4</th>\n",
       "      <th>5</th>\n",
       "      <th>6</th>\n",
       "      <th>7</th>\n",
       "      <th>8</th>\n",
       "      <th>9</th>\n",
       "      <th>...</th>\n",
       "      <th>122</th>\n",
       "      <th>123</th>\n",
       "      <th>124</th>\n",
       "      <th>125</th>\n",
       "      <th>126</th>\n",
       "      <th>127</th>\n",
       "      <th>128</th>\n",
       "      <th>129</th>\n",
       "      <th>130</th>\n",
       "      <th>131</th>\n",
       "    </tr>\n",
       "  </thead>\n",
       "  <tbody>\n",
       "    <tr>\n",
       "      <th>0</th>\n",
       "      <td>0</td>\n",
       "      <td>0</td>\n",
       "      <td>0</td>\n",
       "      <td>0</td>\n",
       "      <td>0</td>\n",
       "      <td>0</td>\n",
       "      <td>0</td>\n",
       "      <td>0</td>\n",
       "      <td>0</td>\n",
       "      <td>0</td>\n",
       "      <td>...</td>\n",
       "      <td>0</td>\n",
       "      <td>0</td>\n",
       "      <td>0</td>\n",
       "      <td>5</td>\n",
       "      <td>0</td>\n",
       "      <td>0</td>\n",
       "      <td>0</td>\n",
       "      <td>0</td>\n",
       "      <td>0</td>\n",
       "      <td>0</td>\n",
       "    </tr>\n",
       "    <tr>\n",
       "      <th>1</th>\n",
       "      <td>0</td>\n",
       "      <td>0</td>\n",
       "      <td>0</td>\n",
       "      <td>0</td>\n",
       "      <td>1</td>\n",
       "      <td>1</td>\n",
       "      <td>0</td>\n",
       "      <td>1</td>\n",
       "      <td>1</td>\n",
       "      <td>1</td>\n",
       "      <td>...</td>\n",
       "      <td>0</td>\n",
       "      <td>0</td>\n",
       "      <td>0</td>\n",
       "      <td>32</td>\n",
       "      <td>0</td>\n",
       "      <td>0</td>\n",
       "      <td>0</td>\n",
       "      <td>0</td>\n",
       "      <td>0</td>\n",
       "      <td>0</td>\n",
       "    </tr>\n",
       "    <tr>\n",
       "      <th>2</th>\n",
       "      <td>0</td>\n",
       "      <td>0</td>\n",
       "      <td>0</td>\n",
       "      <td>0</td>\n",
       "      <td>0</td>\n",
       "      <td>0</td>\n",
       "      <td>0</td>\n",
       "      <td>0</td>\n",
       "      <td>0</td>\n",
       "      <td>0</td>\n",
       "      <td>...</td>\n",
       "      <td>0</td>\n",
       "      <td>0</td>\n",
       "      <td>0</td>\n",
       "      <td>8</td>\n",
       "      <td>0</td>\n",
       "      <td>0</td>\n",
       "      <td>0</td>\n",
       "      <td>0</td>\n",
       "      <td>0</td>\n",
       "      <td>0</td>\n",
       "    </tr>\n",
       "    <tr>\n",
       "      <th>3</th>\n",
       "      <td>1</td>\n",
       "      <td>0</td>\n",
       "      <td>0</td>\n",
       "      <td>0</td>\n",
       "      <td>0</td>\n",
       "      <td>1</td>\n",
       "      <td>0</td>\n",
       "      <td>0</td>\n",
       "      <td>0</td>\n",
       "      <td>0</td>\n",
       "      <td>...</td>\n",
       "      <td>0</td>\n",
       "      <td>0</td>\n",
       "      <td>0</td>\n",
       "      <td>49</td>\n",
       "      <td>0</td>\n",
       "      <td>0</td>\n",
       "      <td>0</td>\n",
       "      <td>0</td>\n",
       "      <td>0</td>\n",
       "      <td>0</td>\n",
       "    </tr>\n",
       "    <tr>\n",
       "      <th>4</th>\n",
       "      <td>0</td>\n",
       "      <td>0</td>\n",
       "      <td>0</td>\n",
       "      <td>0</td>\n",
       "      <td>1</td>\n",
       "      <td>0</td>\n",
       "      <td>0</td>\n",
       "      <td>0</td>\n",
       "      <td>0</td>\n",
       "      <td>0</td>\n",
       "      <td>...</td>\n",
       "      <td>0</td>\n",
       "      <td>0</td>\n",
       "      <td>0</td>\n",
       "      <td>33</td>\n",
       "      <td>0</td>\n",
       "      <td>0</td>\n",
       "      <td>0</td>\n",
       "      <td>0</td>\n",
       "      <td>0</td>\n",
       "      <td>0</td>\n",
       "    </tr>\n",
       "  </tbody>\n",
       "</table>\n",
       "<p>5 rows × 132 columns</p>\n",
       "</div>"
      ],
      "text/plain": [
       "   0  1  2  3  4  5  6  7  8  9 ...   122  123  124  125  126  127  128  129  \\\n",
       "0  0  0  0  0  0  0  0  0  0  0 ...     0    0    0    5    0    0    0    0   \n",
       "1  0  0  0  0  1  1  0  1  1  1 ...     0    0    0   32    0    0    0    0   \n",
       "2  0  0  0  0  0  0  0  0  0  0 ...     0    0    0    8    0    0    0    0   \n",
       "3  1  0  0  0  0  1  0  0  0  0 ...     0    0    0   49    0    0    0    0   \n",
       "4  0  0  0  0  1  0  0  0  0  0 ...     0    0    0   33    0    0    0    0   \n",
       "\n",
       "   130  131  \n",
       "0    0    0  \n",
       "1    0    0  \n",
       "2    0    0  \n",
       "3    0    0  \n",
       "4    0    0  \n",
       "\n",
       "[5 rows x 132 columns]"
      ]
     },
     "execution_count": 11,
     "metadata": {},
     "output_type": "execute_result"
    }
   ],
   "source": [
    "df_tfidf[\"126\"]=0 \n",
    "df_tfidf[\"127\"]=0\n",
    "df_tfidf[\"128\"]=0\n",
    "df_tfidf[\"129\"]=0\n",
    "df_tfidf[\"130\"]=0\n",
    "df_tfidf[\"131\"]=0\n",
    "df_tfidf.head()\n",
    "\n"
   ]
  },
  {
   "cell_type": "code",
   "execution_count": 12,
   "metadata": {
    "collapsed": false
   },
   "outputs": [
    {
     "data": {
      "text/html": [
       "<div>\n",
       "<table border=\"1\" class=\"dataframe\">\n",
       "  <thead>\n",
       "    <tr style=\"text-align: right;\">\n",
       "      <th></th>\n",
       "      <th>0</th>\n",
       "      <th>1</th>\n",
       "      <th>2</th>\n",
       "      <th>3</th>\n",
       "      <th>4</th>\n",
       "      <th>5</th>\n",
       "      <th>6</th>\n",
       "      <th>7</th>\n",
       "      <th>8</th>\n",
       "      <th>9</th>\n",
       "      <th>...</th>\n",
       "      <th>122</th>\n",
       "      <th>123</th>\n",
       "      <th>124</th>\n",
       "      <th>125</th>\n",
       "      <th>126</th>\n",
       "      <th>127</th>\n",
       "      <th>128</th>\n",
       "      <th>129</th>\n",
       "      <th>130</th>\n",
       "      <th>131</th>\n",
       "    </tr>\n",
       "  </thead>\n",
       "  <tbody>\n",
       "    <tr>\n",
       "      <th>0</th>\n",
       "      <td>0</td>\n",
       "      <td>0</td>\n",
       "      <td>0</td>\n",
       "      <td>0</td>\n",
       "      <td>0</td>\n",
       "      <td>0</td>\n",
       "      <td>0</td>\n",
       "      <td>0</td>\n",
       "      <td>0</td>\n",
       "      <td>0</td>\n",
       "      <td>...</td>\n",
       "      <td>0</td>\n",
       "      <td>0</td>\n",
       "      <td>0</td>\n",
       "      <td>5</td>\n",
       "      <td>1</td>\n",
       "      <td>2</td>\n",
       "      <td>2</td>\n",
       "      <td>1</td>\n",
       "      <td>2</td>\n",
       "      <td>2</td>\n",
       "    </tr>\n",
       "    <tr>\n",
       "      <th>1</th>\n",
       "      <td>0</td>\n",
       "      <td>0</td>\n",
       "      <td>0</td>\n",
       "      <td>0</td>\n",
       "      <td>1</td>\n",
       "      <td>1</td>\n",
       "      <td>0</td>\n",
       "      <td>1</td>\n",
       "      <td>1</td>\n",
       "      <td>1</td>\n",
       "      <td>...</td>\n",
       "      <td>0</td>\n",
       "      <td>0</td>\n",
       "      <td>0</td>\n",
       "      <td>32</td>\n",
       "      <td>18</td>\n",
       "      <td>12</td>\n",
       "      <td>2</td>\n",
       "      <td>18</td>\n",
       "      <td>12</td>\n",
       "      <td>2</td>\n",
       "    </tr>\n",
       "    <tr>\n",
       "      <th>2</th>\n",
       "      <td>0</td>\n",
       "      <td>0</td>\n",
       "      <td>0</td>\n",
       "      <td>0</td>\n",
       "      <td>0</td>\n",
       "      <td>0</td>\n",
       "      <td>0</td>\n",
       "      <td>0</td>\n",
       "      <td>0</td>\n",
       "      <td>0</td>\n",
       "      <td>...</td>\n",
       "      <td>0</td>\n",
       "      <td>0</td>\n",
       "      <td>0</td>\n",
       "      <td>8</td>\n",
       "      <td>3</td>\n",
       "      <td>2</td>\n",
       "      <td>3</td>\n",
       "      <td>3</td>\n",
       "      <td>2</td>\n",
       "      <td>3</td>\n",
       "    </tr>\n",
       "    <tr>\n",
       "      <th>3</th>\n",
       "      <td>1</td>\n",
       "      <td>0</td>\n",
       "      <td>0</td>\n",
       "      <td>0</td>\n",
       "      <td>0</td>\n",
       "      <td>1</td>\n",
       "      <td>0</td>\n",
       "      <td>0</td>\n",
       "      <td>0</td>\n",
       "      <td>0</td>\n",
       "      <td>...</td>\n",
       "      <td>0</td>\n",
       "      <td>0</td>\n",
       "      <td>0</td>\n",
       "      <td>49</td>\n",
       "      <td>6</td>\n",
       "      <td>40</td>\n",
       "      <td>3</td>\n",
       "      <td>6</td>\n",
       "      <td>40</td>\n",
       "      <td>3</td>\n",
       "    </tr>\n",
       "    <tr>\n",
       "      <th>4</th>\n",
       "      <td>0</td>\n",
       "      <td>0</td>\n",
       "      <td>0</td>\n",
       "      <td>0</td>\n",
       "      <td>1</td>\n",
       "      <td>0</td>\n",
       "      <td>0</td>\n",
       "      <td>0</td>\n",
       "      <td>0</td>\n",
       "      <td>0</td>\n",
       "      <td>...</td>\n",
       "      <td>0</td>\n",
       "      <td>0</td>\n",
       "      <td>0</td>\n",
       "      <td>33</td>\n",
       "      <td>3</td>\n",
       "      <td>26</td>\n",
       "      <td>4</td>\n",
       "      <td>3</td>\n",
       "      <td>27</td>\n",
       "      <td>3</td>\n",
       "    </tr>\n",
       "  </tbody>\n",
       "</table>\n",
       "<p>5 rows × 132 columns</p>\n",
       "</div>"
      ],
      "text/plain": [
       "   0  1  2  3  4  5  6  7  8  9 ...   122  123  124  125  126  127  128  129  \\\n",
       "0  0  0  0  0  0  0  0  0  0  0 ...     0    0    0    5    1    2    2    1   \n",
       "1  0  0  0  0  1  1  0  1  1  1 ...     0    0    0   32   18   12    2   18   \n",
       "2  0  0  0  0  0  0  0  0  0  0 ...     0    0    0    8    3    2    3    3   \n",
       "3  1  0  0  0  0  1  0  0  0  0 ...     0    0    0   49    6   40    3    6   \n",
       "4  0  0  0  0  1  0  0  0  0  0 ...     0    0    0   33    3   26    4    3   \n",
       "\n",
       "   130  131  \n",
       "0    2    2  \n",
       "1   12    2  \n",
       "2    2    3  \n",
       "3   40    3  \n",
       "4   27    3  \n",
       "\n",
       "[5 rows x 132 columns]"
      ]
     },
     "execution_count": 12,
     "metadata": {},
     "output_type": "execute_result"
    }
   ],
   "source": [
    "\n",
    "for index, row in df_2.iterrows():\n",
    "    #print(index)\n",
    "    #total_num=(df_2.iloc[index].str.len() >0).sum()\n",
    "    total_num=(row.str.len() >0).sum()\n",
    "    #print(total_num)\n",
    "\n",
    "    # column 126= (number of item which lenth >= 6 /total)\n",
    "    #long_sum=(df_2.iloc[index].str.len() >=6).sum()\n",
    "    long_sum=(row.str.len() >=6).sum()\n",
    "    #print(long_sum)\n",
    "    #df_tfidf[index]['126']=long_sum\n",
    "    #df_tfidf.loc(index,'126')=long_sum\n",
    "    df_tfidf.set_value(index, '126',long_sum)\n",
    "\n",
    "    # column 128= (number of item which lenth < 4 /total)\n",
    "    #short_sum=( (df_2.iloc[index].str.len() <4  ) ).sum()\n",
    "    short_sum=(row.str.len() < 4).sum()\n",
    "    #print(short_sum)\n",
    "    #df_tfidf.iloc(index,'128')=short_sum\n",
    "    df_tfidf.set_value(index, '128',short_sum)\n",
    "    \n",
    "        \n",
    "    # column 127= (number of item which lenth >= 4 , < 6 /total)\n",
    "    mid_long=total_num-long_sum-short_sum\n",
    "    #print(mid_long)\n",
    "    #df_tfidf.iloc(index,'127')=mid_long\n",
    "    df_tfidf.set_value(index, '127',mid_long)\n",
    "    \n",
    "    # column 129 number of X\n",
    "    #X_count= ( 'X' in df_2.iloc[index].str ).sum()\n",
    "    X_count=(row.str.contains('X')).sum()\n",
    "    df_tfidf.set_value(index, '129',X_count)\n",
    "    \n",
    "    \n",
    "    # column 130 number of Y\n",
    "    Y_count=(row.str.contains('Y')).sum()\n",
    "    df_tfidf.set_value(index, '130',Y_count)\n",
    "    \n",
    "    # column 131 number of Z\n",
    "    Z_count=(row.str.contains('Z')).sum()\n",
    "    df_tfidf.set_value(index, '131',Z_count)\n",
    "    \n",
    "        \n",
    "    \n",
    "df_tfidf.head()\n"
   ]
  },
  {
   "cell_type": "code",
   "execution_count": 14,
   "metadata": {
    "collapsed": false
   },
   "outputs": [
    {
     "data": {
      "text/plain": [
       "(10000, 132)"
      ]
     },
     "execution_count": 14,
     "metadata": {},
     "output_type": "execute_result"
    }
   ],
   "source": [
    "df_tfidf.shape"
   ]
  },
  {
   "cell_type": "code",
   "execution_count": null,
   "metadata": {
    "collapsed": true
   },
   "outputs": [],
   "source": [
    "###############################################################"
   ]
  },
  {
   "cell_type": "code",
   "execution_count": 15,
   "metadata": {
    "collapsed": false
   },
   "outputs": [
    {
     "name": "stdout",
     "output_type": "stream",
     "text": [
      "[ 0  0  0  0  1  1  0  1  1  1  0  0  0  0  1  1  1  1  0  0  1  0  0  0  1\n",
      "  0  0  0  0  0  1  0  0  1  0  1  1  1  0  0  1  0  1  0  0  0  0  0  0  0\n",
      "  0  0  0  0  0  0  0  0  0  0  0  0  0  0  0  0  0  0  0  0  0  0  0  1  1\n",
      "  1  1  0  0  0  0  1  0  1  1  0  1  0  0  1  0  1  0  1  0  0  1  0  0  0\n",
      "  0  0  0  1  0  0  0  0  0  0  0  0  0  0  0  0  0  0  0  0  0  1  0  0  0\n",
      " 32 18 12  2 18 12  2]\n",
      "(10000, 132) <class 'numpy.ndarray'>\n",
      "(10000,) <class 'numpy.ndarray'>\n"
     ]
    }
   ],
   "source": [
    "#########\n",
    "# change X from df to narray\n",
    "###########\n",
    "#X = df_tfidf_try.iloc[:, 0:].values\n",
    "X = df_tfidf.iloc[:, 0:].values\n",
    "print(X[1])\n",
    "print(X.shape,type(X))\n",
    "print(y.shape,type(y))\n",
    "\n"
   ]
  },
  {
   "cell_type": "code",
   "execution_count": 16,
   "metadata": {
    "collapsed": false
   },
   "outputs": [
    {
     "name": "stdout",
     "output_type": "stream",
     "text": [
      "[ 0  0  0  0  0  0  0  0  0  0  0  0  0  0  0  0  0  0  0  0  0  0  0  0  1\n",
      "  0  0  0  0  0  0  0  0  0  0  0  0  0  0  0  0  0  0  0  0  0  0  1  0  0\n",
      "  0  0  1  1  1  1  1  1  0  1  0  1  1  0  1  1  1  1  1  1  1  1  0  0  0\n",
      "  0  1  0  0  0  0  0  0  0  0  0  0  0  0  0  0  1  0  0  0  0  0  0  1  1\n",
      "  0  0  0  1  0  0  0  0  0  0  1  0  0  0  0  0  0  0  0  0  0  1  0  0  0\n",
      " 26  2 20  4  2 21  3]\n",
      "(7000, 132) (7000,)\n",
      "(3000, 132) (3000,)\n",
      "[ 0  0  0  0  1  1  0  1  1  1  0  0  0  0  1  1  1  1  0  0  1  0  0  0  1\n",
      "  0  0  0  0  0  1  0  0  1  0  1  1  1  0  0  1  0  1  0  0  0  0  0  0  0\n",
      "  0  0  0  0  0  0  0  0  0  0  0  0  0  0  0  0  0  0  0  0  0  0  0  1  1\n",
      "  1  1  0  0  0  0  1  0  1  1  0  1  0  0  1  0  1  0  1  0  0  1  0  0  0\n",
      "  0  0  0  1  0  0  0  0  0  0  0  0  0  0  0  0  0  0  0  0  0  1  0  0  0\n",
      " 32 18 12  2 18 12  2]\n"
     ]
    }
   ],
   "source": [
    "###############\n",
    "# separate the train, test set.\n",
    "###############\n",
    "\n",
    "from sklearn.model_selection import train_test_split\n",
    "X_train, X_test, y_train, y_test = train_test_split(X, y, test_size=0.3, random_state=0)\n",
    "print(X_train[1])\n",
    "print(X_train.shape,y_train.shape)\n",
    "print(X_test.shape,y_test.shape)\n",
    "print(X[1])"
   ]
  },
  {
   "cell_type": "code",
   "execution_count": null,
   "metadata": {
    "collapsed": false
   },
   "outputs": [],
   "source": [
    "##########################\n",
    "#feature preprocessing\n",
    "########################\n",
    "'''\n",
    "from sklearn.preprocessing import StandardScaler,MinMaxScaler,MaxAbsScaler\n",
    "#stdsc = StandardScaler()\n",
    "stdsc = StandardScaler(with_mean=False)\n",
    "minmaxsc=MinMaxScaler(feature_range=(0, 1),copy=False)\n",
    "maxabssc=MaxAbsScaler()\n",
    "\n",
    "\n",
    "#X_train_std = stdsc.fit_transform(X_train)\n",
    "#X_test_std = stdsc.transform(X_test)\n",
    "\n",
    "\n",
    "#X_sc= stdsc.fit_transform(X)\n",
    "#X_train = stdsc.fit_transform(X_train)\n",
    "#X_test = stdsc.transform(X_test)\n",
    "\n",
    "\n",
    "\n",
    "\n",
    "X= minmaxsc.fit_transform(X)\n",
    "X_train = minmaxsc.fit_transform(X_train)\n",
    "X_test = minmaxsc.transform(X_test)\n",
    "\n",
    "#X= maxabssc.fit_transform(X)\n",
    "#X_train = maxabssc.fit_transform(X_train)\n",
    "#X_test = maxabssc.transform(X_test)\n",
    "\n",
    "\n",
    "\n",
    "print(X_train[1])\n",
    "print(X[1])\n",
    "'''"
   ]
  },
  {
   "cell_type": "markdown",
   "metadata": {},
   "source": [
    "# rbf_svc"
   ]
  },
  {
   "cell_type": "code",
   "execution_count": null,
   "metadata": {
    "collapsed": false
   },
   "outputs": [],
   "source": [
    "from sklearn import svm\n",
    "rbf_svc = svm.SVC(kernel='rbf')\n",
    "rbf_svc=rbf_svc.fit(X_train, y_train)\n",
    "y_train_pred = rbf_svc.predict(X_train)\n",
    "y_test_pred = rbf_svc.predict(X_test)\n",
    "\n",
    "rbf_train = accuracy_score(y_train, y_train_pred)\n",
    "rbf_test = accuracy_score(y_test, y_test_pred)\n",
    "print('rbf_svc,  train/test accuracies %.3f/%.3f'\n",
    "          % (rbf_train, rbf_test))"
   ]
  },
  {
   "cell_type": "code",
   "execution_count": null,
   "metadata": {
    "collapsed": false
   },
   "outputs": [],
   "source": [
    "###########################\n",
    "# get the learning cruve\n",
    "##########################\n",
    "from sklearn.model_selection import learning_curve\n",
    "train_sizes, train_scores, test_scores =\\\n",
    "            learning_curve(estimator=rbf_svc,\n",
    "            X=X,\n",
    "            y=y,\n",
    "            train_sizes=np.linspace(0.1, 1.0, 10),\n",
    "            cv=10\n",
    "            )"
   ]
  },
  {
   "cell_type": "code",
   "execution_count": null,
   "metadata": {
    "collapsed": false
   },
   "outputs": [],
   "source": [
    "%matplotlib inline\n",
    "#plot it out\n",
    "train_mean = np.mean(train_scores, axis=1)\n",
    "train_std = np.std(train_scores, axis=1)\n",
    "test_mean = np.mean(test_scores, axis=1)\n",
    "test_std = np.std(test_scores, axis=1)\n",
    "\n",
    "print(\"learning_curve train: %0.2f (+/- %0.2f) [rbf_svc]\" \n",
    "      % ( np.asarray(train_mean).mean(),  np.asarray(train_std).mean() ))\n",
    "\n",
    "print(\"learning_curve test: %0.2f (+/- %0.2f) [rbf_svc]\" \n",
    "      % ( np.asarray(test_mean).mean(),  np.asarray(test_std).mean() ))\n",
    "\n",
    "plt.plot(train_sizes, train_mean,\n",
    "         color='blue', marker='o',\n",
    "         markersize=5, label='training accuracy')\n",
    "\n",
    "plt.fill_between(train_sizes,\n",
    "                 train_mean + train_std,\n",
    "                 train_mean - train_std,\n",
    "                 alpha=0.15, color='blue')\n",
    "\n",
    "plt.plot(train_sizes, test_mean,\n",
    "         color='green', linestyle='--',\n",
    "         marker='s', markersize=5,\n",
    "         label='validation accuracy')\n",
    "\n",
    "plt.fill_between(train_sizes,\n",
    "                 test_mean + test_std,\n",
    "                 test_mean - test_std,\n",
    "                 alpha=0.15, color='green')\n",
    "\n",
    "plt.grid()\n",
    "plt.xlabel('Number of training samples')\n",
    "plt.ylabel('Accuracy')\n",
    "plt.legend(loc='lower right')\n",
    "plt.ylim([0.5, 1.0])\n",
    "plt.tight_layout()\n",
    "# plt.savefig('./figures/learning_curve.png', dpi=300)\n",
    "plt.show()"
   ]
  },
  {
   "cell_type": "markdown",
   "metadata": {},
   "source": [
    "# LogisticRegression"
   ]
  },
  {
   "cell_type": "code",
   "execution_count": 17,
   "metadata": {
    "collapsed": false
   },
   "outputs": [
    {
     "name": "stdout",
     "output_type": "stream",
     "text": [
      "LogisticRegression,  train/test accuracies 0.780/0.761\n"
     ]
    }
   ],
   "source": [
    "from sklearn.linear_model import LogisticRegression\n",
    "from sklearn.metrics import accuracy_score\n",
    "lr=LogisticRegression(random_state=0)\n",
    "lr=lr.fit(X_train, y_train)\n",
    "y_train_pred = lr.predict(X_train)\n",
    "y_test_pred = lr.predict(X_test)\n",
    "\n",
    "clf_train = accuracy_score(y_train, y_train_pred)\n",
    "clf_test = accuracy_score(y_test, y_test_pred)\n",
    "print('LogisticRegression,  train/test accuracies %.3f/%.3f'\n",
    "          % (clf_train, clf_test))"
   ]
  },
  {
   "cell_type": "code",
   "execution_count": 19,
   "metadata": {
    "collapsed": false
   },
   "outputs": [
    {
     "name": "stdout",
     "output_type": "stream",
     "text": [
      "<class 'numpy.ndarray'> [[ 0.67841424  0.32158576]\n",
      " [ 0.51548063  0.48451937]\n",
      " [ 0.23345694  0.76654306]\n",
      " ..., \n",
      " [ 0.40858654  0.59141346]\n",
      " [ 0.76888015  0.23111985]\n",
      " [ 0.87119453  0.12880547]]\n",
      "<class 'numpy.ndarray'> [0 0 1 ..., 1 0 0]\n"
     ]
    }
   ],
   "source": [
    "#print(lr.coef_,lr.coef_.shape)\n",
    "\n",
    "y_test_pred_prob=lr.predict_proba(X_test)\n",
    "print(type(y_test_pred_prob),y_test_pred_prob)\n",
    "print(type(y_test_pred),y_test_pred)"
   ]
  },
  {
   "cell_type": "markdown",
   "metadata": {},
   "source": [
    "## Evaluaton 1 : confusion matrix "
   ]
  },
  {
   "cell_type": "code",
   "execution_count": 21,
   "metadata": {
    "collapsed": false
   },
   "outputs": [
    {
     "name": "stdout",
     "output_type": "stream",
     "text": [
      "[[1588  318]\n",
      " [ 400  694]]\n"
     ]
    },
    {
     "name": "stderr",
     "output_type": "stream",
     "text": [
      "//anaconda/lib/python3.5/site-packages/matplotlib/tight_layout.py:222: UserWarning: tight_layout : falling back to Agg renderer\n",
      "  warnings.warn(\"tight_layout : falling back to Agg renderer\")\n"
     ]
    }
   ],
   "source": [
    "#Reading a confusion matrix\n",
    "%matplotlib inline\n",
    "from sklearn.metrics import confusion_matrix\n",
    "confmat = confusion_matrix(y_true=y_test, y_pred=y_test_pred)\n",
    "print(confmat)\n",
    "\n",
    "#plot out\n",
    "fig, ax = plt.subplots(figsize=(2.5, 2.5))\n",
    "ax.matshow(confmat, cmap=plt.cm.Blues, alpha=0.3)\n",
    "for i in range(confmat.shape[0]):\n",
    "    for j in range(confmat.shape[1]):\n",
    "        ax.text(x=j, y=i, s=confmat[i, j], va='center', ha='center')\n",
    "\n",
    "plt.xlabel('predicted label')\n",
    "plt.ylabel('true label')\n",
    "\n",
    "plt.tight_layout()\n",
    "# plt.savefig('./figures/confusion_matrix.png', dpi=300)\n",
    "plt.show()"
   ]
  },
  {
   "cell_type": "code",
   "execution_count": 23,
   "metadata": {
    "collapsed": false
   },
   "outputs": [
    {
     "name": "stdout",
     "output_type": "stream",
     "text": [
      "Precision: 0.686\n",
      "Recall: 0.634\n",
      "F1: 0.659\n"
     ]
    }
   ],
   "source": [
    "########################\n",
    "# Optimizing the precision and recall of a classification model\n",
    "#######################\n",
    "from sklearn.metrics import precision_score, recall_score, f1_score\n",
    "\n",
    "print('Precision: %.3f' % precision_score(y_true=y_test, y_pred=y_test_pred))\n",
    "print('Recall: %.3f' % recall_score(y_true=y_test, y_pred=y_test_pred))\n",
    "print('F1: %.3f' % f1_score(y_true=y_test, y_pred=y_test_pred))"
   ]
  },
  {
   "cell_type": "markdown",
   "metadata": {
    "collapsed": true
   },
   "source": [
    "## Evaluation 2: Crass val score on accuracy and roc_auc"
   ]
  },
  {
   "cell_type": "code",
   "execution_count": 28,
   "metadata": {
    "collapsed": false
   },
   "outputs": [
    {
     "data": {
      "image/png": "[encoded data removed]",
      "text/plain": [
       "<matplotlib.figure.Figure at 0x121c0dfd0>"
      ]
     },
     "metadata": {},
     "output_type": "display_data"
    }
   ],
   "source": [
    "%matplotlib inline\n",
    "from sklearn.cross_validation import StratifiedKFold\n",
    "#we chose folds =3 is just for create the bad rsult of classifer,\n",
    "# because we want to see the different in ROC pic\n",
    "# usually n_foldes=10\n",
    "cv = StratifiedKFold(y_train, n_folds=10, random_state=1)\n",
    "\n",
    "\n",
    "#plot the roc curve\n",
    "from sklearn.metrics import roc_curve, auc\n",
    "from scipy import interp\n",
    "\n",
    "\n",
    "fig = plt.figure(figsize=(7, 5))\n",
    "\n",
    "mean_tpr = 0.0\n",
    "mean_fpr = np.linspace(0, 1, 100)\n",
    "all_tpr = []\n",
    "\n",
    "for i, (train, test) in enumerate(cv):\n",
    "    probas = lr.fit(X_train[train],\n",
    "                         y_train[train]).predict_proba(X_train[test])\n",
    "\n",
    "    fpr, tpr, thresholds = roc_curve(y_train[test],\n",
    "                                     probas[:, 1],\n",
    "                                     pos_label=1)\n",
    "    mean_tpr += interp(mean_fpr, fpr, tpr)\n",
    "    mean_tpr[0] = 0.0\n",
    "    roc_auc = auc(fpr, tpr)\n",
    "    plt.plot(fpr,\n",
    "             tpr,\n",
    "             lw=1,\n",
    "             label='ROC fold %d (AUC area = %0.2f)'\n",
    "                    % (i+1, roc_auc))\n",
    "\n",
    "\n",
    "\n",
    "plt.plot([0, 1],\n",
    "         [0, 1],\n",
    "         linestyle='--',\n",
    "         color=(0.6, 0.6, 0.6),\n",
    "         label='random guessing')\n",
    "\n",
    "mean_tpr /= len(cv)\n",
    "mean_tpr[-1] = 1.0\n",
    "mean_auc = auc(mean_fpr, mean_tpr)\n",
    "plt.plot(mean_fpr, mean_tpr, 'k--',\n",
    "         label='mean ROC (area = %0.2f)' % mean_auc, lw=2)\n",
    "plt.plot([0, 0, 1],\n",
    "         [0, 1, 1],\n",
    "         lw=2,\n",
    "         linestyle=':',\n",
    "         color='black',\n",
    "         label='perfect performance')\n",
    "\n",
    "plt.xlim([-0.05, 1.05])\n",
    "plt.ylim([-0.05, 1.05])\n",
    "plt.xlabel('false positive rate')\n",
    "plt.ylabel('true positive rate')\n",
    "plt.title('Receiver Operator Characteristic')\n",
    "plt.legend(loc=\"lower right\")\n",
    "\n",
    "plt.tight_layout()\n",
    "# plt.savefig('./figures/roc.png', dpi=300)\n",
    "plt.show()"
   ]
  },
  {
   "cell_type": "markdown",
   "metadata": {},
   "source": [
    "## Precision-Recall for muti- classifier with different threshold ?\n",
    "http://scikit-learn.org/stable/auto_examples/model_selection/plot_precision_recall.html"
   ]
  },
  {
   "cell_type": "code",
   "execution_count": 104,
   "metadata": {
    "collapsed": false
   },
   "outputs": [
    {
     "name": "stdout",
     "output_type": "stream",
     "text": [
      "(3000, 2)\n",
      "(7000, 2)\n",
      "[[-0.74649382  0.7513697 ]\n",
      " [-0.06194233  0.06024451]\n",
      " [ 1.18889322 -1.17789796]\n",
      " ..., \n",
      " [ 0.36981163 -0.37021038]\n",
      " [-1.2019987   1.20383293]\n",
      " [-1.91156199  1.91117176]]\n",
      "2\n"
     ]
    },
    {
     "data": {
      "image/png": "[encoded data removed]",
      "text/plain": [
       "<matplotlib.figure.Figure at 0x1225afcf8>"
      ]
     },
     "metadata": {},
     "output_type": "display_data"
    }
   ],
   "source": [
    "%matplotlib inline\n",
    "from sklearn.metrics import precision_recall_curve\n",
    "from sklearn.metrics import average_precision_score\n",
    "from sklearn.multiclass import OneVsRestClassifier\n",
    "\n",
    "\n",
    "y_test_2 = np.array([y_test, (y_test-1)*-1], np.int32).T\n",
    "print((y_test_2.shape))\n",
    "\n",
    "y_train_2 = np.array([y_train, (y_train-1)*-1], np.int32).T\n",
    "print((y_train_2.shape))\n",
    "\n",
    "\n",
    "# setup plot details\n",
    "colors = cycle(['navy', 'turquoise', 'darkorange', 'cornflowerblue', 'teal'])\n",
    "lw = 2\n",
    "\n",
    "# Run classifier\n",
    "classifier = OneVsRestClassifier(LogisticRegression(random_state=0))\n",
    "y_score = classifier.fit(X_train, y_train_2).decision_function(X_test)\n",
    "\n",
    "print(y_score)\n",
    "n_classes = y_2.shape[1]\n",
    "print(n_classes)\n",
    "\n",
    "# Compute Precision-Recall and plot curve\n",
    "precision = dict()\n",
    "recall = dict()\n",
    "thresholds = dict()\n",
    "average_precision = dict()\n",
    "for i in range(n_classes):\n",
    "    precision[i], recall[i], thresholds[i] = precision_recall_curve(y_test_2[:, i],\n",
    "                                                        y_score[:, i])\n",
    "    average_precision[i] = average_precision_score(y_test_2[:, i], y_score[:, i])\n",
    "\n",
    "# Compute micro-average ROC curve and ROC area\n",
    "precision[\"micro\"], recall[\"micro\"], thresholds[\"micro\"] = precision_recall_curve(y_test_2.ravel(),\n",
    "    y_score.ravel())\n",
    "average_precision[\"micro\"] = average_precision_score(y_test_2, y_score,\n",
    "                                                     average=\"micro\")\n",
    "\n",
    "'''\n",
    "# Plot Precision-Recall curve\n",
    "plt.clf()\n",
    "plt.plot(recall[0], precision[0], lw=lw, color='navy',\n",
    "         label='Precision-Recall curve')\n",
    "plt.xlabel('Recall')\n",
    "plt.ylabel('Precision')\n",
    "plt.ylim([0.0, 1.05])\n",
    "plt.xlim([0.0, 1.0])\n",
    "plt.title('Precision-Recall example: AUC={0:0.2f}'.format(average_precision[0]))\n",
    "plt.legend(loc=\"lower left\")\n",
    "plt.show()\n",
    "'''\n",
    "# Plot Precision-Recall curve for each class\n",
    "plt.clf()\n",
    "plt.plot(recall[\"micro\"], precision[\"micro\"], color='gold', lw=lw,\n",
    "         label='micro-average Precision-recall curve (area = {0:0.2f})'\n",
    "               ''.format(average_precision[\"micro\"]))\n",
    "for i, color in zip(range(n_classes), colors):\n",
    "    plt.plot(recall[i], precision[i], color=color, lw=lw,\n",
    "             label='Precision-recall curve of class {0} (area = {1:0.2f})'\n",
    "                   ''.format(i, average_precision[i]))\n",
    "\n",
    "plt.xlim([0.0, 1.0])\n",
    "plt.ylim([0.0, 1.05])\n",
    "plt.xlabel('Recall')\n",
    "plt.ylabel('Precision')\n",
    "plt.title('Extension of Precision-Recall curve to multi-class')\n",
    "plt.legend(loc=\"lower right\")\n",
    "plt.show()"
   ]
  },
  {
   "cell_type": "code",
   "execution_count": null,
   "metadata": {
    "collapsed": false
   },
   "outputs": [],
   "source": [
    "#################\n",
    "# cross_val: accuracy\n",
    "###################\n",
    "\n",
    "from sklearn.model_selection import cross_val_score\n",
    "scores = cross_val_score(estimator=lr, \n",
    "                             X=X, \n",
    "                             y=y, \n",
    "                             cv=10, \n",
    "                             #scoring='roc_auc', #0.83 (+/- 0.01)\n",
    "                             scoring='accuracy',#0.77 (+/- 0.01)\n",
    "                             #scoring='roc_auc',\n",
    "                             n_jobs=-1)\n",
    "\n",
    "print(\"Accuracy: %0.2f (+/- %0.2f) [LogisticRegression]\" \n",
    "               % (scores.mean(), scores.std()))"
   ]
  },
  {
   "cell_type": "code",
   "execution_count": null,
   "metadata": {
    "collapsed": true
   },
   "outputs": [],
   "source": []
  },
  {
   "cell_type": "code",
   "execution_count": null,
   "metadata": {
    "collapsed": false
   },
   "outputs": [],
   "source": [
    "#################\n",
    "# cross_val: roc_auc\n",
    "###################\n",
    "\n",
    "from sklearn.model_selection import cross_val_score\n",
    "scores = cross_val_score(estimator=lr, \n",
    "                             X=X, \n",
    "                             y=y, \n",
    "                             cv=10, \n",
    "                             scoring='roc_auc', #0.83 (+/- 0.01)\n",
    "                             #scoring='accuracy',#0.77 (+/- 0.01)\n",
    "                             #scoring='roc_auc',\n",
    "                             n_jobs=-1)\n",
    "\n",
    "print(\"roc_auc: %0.2f (+/- %0.2f) [LogisticRegression]\" \n",
    "               % (scores.mean(), scores.std()))"
   ]
  },
  {
   "cell_type": "markdown",
   "metadata": {},
   "source": [
    "## Evaluation 3: learning cruve for overfix and validation cruve for parameter."
   ]
  },
  {
   "cell_type": "code",
   "execution_count": null,
   "metadata": {
    "collapsed": true
   },
   "outputs": [],
   "source": [
    "###########################\n",
    "# get the learning cruve\n",
    "##########################\n",
    "from sklearn.model_selection import learning_curve\n",
    "train_sizes, train_scores, test_scores =\\\n",
    "            learning_curve(estimator=lr,#estimator=pipe_lr,\n",
    "            X=X,\n",
    "            y=y,\n",
    "            train_sizes=np.linspace(0.1, 1.0, 10),\n",
    "            cv=10,\n",
    "            n_jobs=-1)"
   ]
  },
  {
   "cell_type": "code",
   "execution_count": null,
   "metadata": {
    "collapsed": false
   },
   "outputs": [],
   "source": [
    "%matplotlib inline\n",
    "#plot it out\n",
    "train_mean = np.mean(train_scores, axis=1)\n",
    "train_std = np.std(train_scores, axis=1)\n",
    "test_mean = np.mean(test_scores, axis=1)\n",
    "test_std = np.std(test_scores, axis=1)\n",
    "\n",
    "print(\"learning_curve train: %0.2f (+/- %0.2f) [AdaBoostClassifiers]\" \n",
    "      % ( np.asarray(train_mean).mean(),  np.asarray(train_std).mean() ))\n",
    "\n",
    "print(\"learning_curve test: %0.2f (+/- %0.2f) [AdaBoostClassifiers]\" \n",
    "      % ( np.asarray(test_mean).mean(),  np.asarray(test_std).mean() ))\n",
    "\n",
    "plt.plot(train_sizes, train_mean,\n",
    "         color='blue', marker='o',\n",
    "         markersize=5, label='training accuracy')\n",
    "\n",
    "plt.fill_between(train_sizes,\n",
    "                 train_mean + train_std,\n",
    "                 train_mean - train_std,\n",
    "                 alpha=0.15, color='blue')\n",
    "\n",
    "plt.plot(train_sizes, test_mean,\n",
    "         color='green', linestyle='--',\n",
    "         marker='s', markersize=5,\n",
    "         label='validation accuracy')\n",
    "\n",
    "plt.fill_between(train_sizes,\n",
    "                 test_mean + test_std,\n",
    "                 test_mean - test_std,\n",
    "                 alpha=0.15, color='green')\n",
    "\n",
    "plt.grid()\n",
    "plt.xlabel('Number of training samples')\n",
    "plt.ylabel('Accuracy')\n",
    "plt.legend(loc='lower right')\n",
    "plt.ylim([0.5, 1.0])\n",
    "plt.tight_layout()\n",
    "# plt.savefig('./figures/learning_curve.png', dpi=300)\n",
    "plt.show()"
   ]
  },
  {
   "cell_type": "code",
   "execution_count": null,
   "metadata": {
    "collapsed": false
   },
   "outputs": [],
   "source": [
    "#######################\n",
    "# Addressing overfit and underfitting with validation curves\n",
    "########################\n",
    "from sklearn.model_selection import validation_curve\n",
    "\n",
    "# set the range of parameter we want to check: C in LogisticRegression\n",
    "param_range = [0.0001,0.001, 0.01, 0.1, 1.0, 10.0, 100.0]\n",
    "#param_range = [100,500,1000,5000]\n",
    "train_scores, test_scores = validation_curve(\n",
    "                #estimator=pipe_lr,\n",
    "                estimator=lr,\n",
    "                X=X,\n",
    "                y=y,\n",
    "                param_name='C',#C in LogisticRegression\n",
    "                #param_name='n_estimators',\n",
    "                param_range=param_range,\n",
    "                cv=10,\n",
    "                n_jobs=-1\n",
    "                )\n"
   ]
  },
  {
   "cell_type": "code",
   "execution_count": null,
   "metadata": {
    "collapsed": false
   },
   "outputs": [],
   "source": [
    "%matplotlib inline\n",
    "#plot it out\n",
    "train_mean = np.mean(train_scores, axis=1)\n",
    "train_std = np.std(train_scores, axis=1)\n",
    "test_mean = np.mean(test_scores, axis=1)\n",
    "test_std = np.std(test_scores, axis=1)\n",
    "\n",
    "plt.plot(param_range, train_mean,\n",
    "         color='blue', marker='o',\n",
    "         markersize=5, label='training accuracy')\n",
    "\n",
    "plt.fill_between(param_range, train_mean + train_std,\n",
    "                 train_mean - train_std, alpha=0.15,\n",
    "                 color='blue')\n",
    "\n",
    "plt.plot(param_range, test_mean,\n",
    "         color='green', linestyle='--',\n",
    "         marker='s', markersize=5,\n",
    "         label='validation accuracy')\n",
    "\n",
    "plt.fill_between(param_range,\n",
    "                 test_mean + test_std,\n",
    "                 test_mean - test_std,\n",
    "                 alpha=0.15, color='green')\n",
    "\n",
    "plt.grid()\n",
    "plt.xscale('log')\n",
    "plt.legend(loc='lower right')\n",
    "plt.xlabel('C in LogisticRegression')\n",
    "plt.ylabel('Accuracy')\n",
    "plt.ylim([0.6, 0.8])\n",
    "plt.tight_layout()\n",
    "# plt.savefig('./figures/validation_curve.png', dpi=300)\n",
    "plt.show()"
   ]
  },
  {
   "cell_type": "markdown",
   "metadata": {},
   "source": [
    "## -- logistic regression end --"
   ]
  },
  {
   "cell_type": "markdown",
   "metadata": {},
   "source": [
    "# try models adaptive boosting"
   ]
  },
  {
   "cell_type": "code",
   "execution_count": null,
   "metadata": {
    "collapsed": false
   },
   "outputs": [],
   "source": [
    "print(X,X.shape)\n",
    "print(y,y.shape)\n",
    "import math\n",
    "math.sqrt(X.shape[1])"
   ]
  },
  {
   "cell_type": "code",
   "execution_count": null,
   "metadata": {
    "collapsed": false
   },
   "outputs": [],
   "source": [
    "######################\n",
    "#adaptive boosting\n",
    "#####################\n",
    "from sklearn.tree import DecisionTreeClassifier\n",
    "from sklearn.ensemble import AdaBoostClassifier\n",
    "\n",
    "\n",
    "\n",
    "tree = DecisionTreeClassifier(criterion='entropy', \n",
    "                              max_depth=1\n",
    "                              #min_samples_split=0.9 ,\n",
    "                              #max_features=50\n",
    "                             )\n",
    "\n",
    "clf = AdaBoostClassifier(base_estimator=tree,\n",
    "                         n_estimators=500, \n",
    "                         learning_rate=0.1,\n",
    "                         random_state=0)"
   ]
  },
  {
   "cell_type": "code",
   "execution_count": null,
   "metadata": {
    "collapsed": false
   },
   "outputs": [],
   "source": [
    "#################\n",
    "# cross_val: roc_auc\n",
    "###################\n",
    "\n",
    "from sklearn.model_selection import cross_val_score\n",
    "scores = cross_val_score(estimator=clf, \n",
    "                             X=X, \n",
    "                             y=y, \n",
    "                             cv=10, \n",
    "                             #scoring='roc_auc', #0.83 (+/- 0.01)\n",
    "                             #scoring='accuracy',#0.77 (+/- 0.01)\n",
    "                             scoring='roc_auc',\n",
    "                             n_jobs=-1)\n",
    "\n",
    "print(\"ROC AUC: %0.2f (+/- %0.2f) [AdaBoostClassifiers]\" \n",
    "               % (scores.mean(), scores.std()))"
   ]
  },
  {
   "cell_type": "code",
   "execution_count": null,
   "metadata": {
    "collapsed": false
   },
   "outputs": [],
   "source": [
    "#################\n",
    "# cross_val: accuracy\n",
    "###################\n",
    "\n",
    "from sklearn.model_selection import cross_val_score\n",
    "scores = cross_val_score(estimator=clf, \n",
    "                             X=X, \n",
    "                             y=y, \n",
    "                             cv=10, \n",
    "                             #scoring='roc_auc', #0.83 (+/- 0.01)\n",
    "                             scoring='accuracy',#0.77 (+/- 0.01)\n",
    "                             #scoring='roc_auc',\n",
    "                             n_jobs=-1)\n",
    "\n",
    "print(\"Accuracy: %0.2f (+/- %0.2f) [AdaBoostClassifiers]\" \n",
    "               % (scores.mean(), scores.std()))"
   ]
  },
  {
   "cell_type": "code",
   "execution_count": null,
   "metadata": {
    "collapsed": false
   },
   "outputs": [],
   "source": [
    "##################\n",
    "# poor score , but take a look\n",
    "#################\n",
    "from sklearn.metrics import accuracy_score\n",
    "\n",
    "clf = clf.fit(X_train, y_train)\n",
    "y_train_pred = clf.predict(X_train)\n",
    "y_test_pred = clf.predict(X_test)\n",
    "\n",
    "clf_train = accuracy_score(y_train, y_train_pred) \n",
    "clf_test = accuracy_score(y_test, y_test_pred) \n",
    "print('AdaBoost train/test accuracies %.3f/%.3f'\n",
    "      % (clf_train, clf_test))"
   ]
  },
  {
   "cell_type": "code",
   "execution_count": null,
   "metadata": {
    "collapsed": false
   },
   "outputs": [],
   "source": [
    "###########################\n",
    "# get the learning cruve\n",
    "##########################\n",
    "from sklearn.model_selection import learning_curve\n",
    "train_sizes, train_scores, test_scores =\\\n",
    "            learning_curve(estimator=clf,#estimator=pipe_lr,\n",
    "            X=X,\n",
    "            y=y,\n",
    "            train_sizes=np.linspace(0.1, 1.0, 10),\n",
    "            cv=10,\n",
    "            n_jobs=-1)\n"
   ]
  },
  {
   "cell_type": "code",
   "execution_count": null,
   "metadata": {
    "collapsed": false
   },
   "outputs": [],
   "source": [
    "%matplotlib inline\n",
    "#plot it out\n",
    "train_mean = np.mean(train_scores, axis=1)\n",
    "train_std = np.std(train_scores, axis=1)\n",
    "test_mean = np.mean(test_scores, axis=1)\n",
    "test_std = np.std(test_scores, axis=1)\n",
    "\n",
    "print(\"learning_curve train: %0.2f (+/- %0.2f) [AdaBoostClassifiers]\" \n",
    "      % ( np.asarray(train_mean).mean(),  np.asarray(train_std).mean() ))\n",
    "\n",
    "print(\"learning_curve test: %0.2f (+/- %0.2f) [AdaBoostClassifiers]\" \n",
    "      % ( np.asarray(test_mean).mean(),  np.asarray(test_std).mean() ))\n",
    "\n",
    "plt.plot(train_sizes, train_mean,\n",
    "         color='blue', marker='o',\n",
    "         markersize=5, label='training accuracy')\n",
    "\n",
    "plt.fill_between(train_sizes,\n",
    "                 train_mean + train_std,\n",
    "                 train_mean - train_std,\n",
    "                 alpha=0.15, color='blue')\n",
    "\n",
    "plt.plot(train_sizes, test_mean,\n",
    "         color='green', linestyle='--',\n",
    "         marker='s', markersize=5,\n",
    "         label='validation accuracy')\n",
    "\n",
    "plt.fill_between(train_sizes,\n",
    "                 test_mean + test_std,\n",
    "                 test_mean - test_std,\n",
    "                 alpha=0.15, color='green')\n",
    "\n",
    "plt.grid()\n",
    "plt.xlabel('Number of training samples')\n",
    "plt.ylabel('Accuracy')\n",
    "plt.legend(loc='lower right')\n",
    "plt.ylim([0.5, 1.0])\n",
    "plt.tight_layout()\n",
    "# plt.savefig('./figures/learning_curve.png', dpi=300)\n",
    "plt.show()"
   ]
  },
  {
   "cell_type": "code",
   "execution_count": null,
   "metadata": {
    "collapsed": false
   },
   "outputs": [],
   "source": [
    "#######################\n",
    "# Addressing overfit and underfitting with validation curves\n",
    "########################\n",
    "from sklearn.model_selection import validation_curve\n",
    "\n",
    "# set the range of parameter we want to check: C in LogisticRegression\n",
    "#param_range = [0.001, 0.01, 0.1, 1.0, 10.0, 100.0]\n",
    "param_range = [100,500,1000,5000]\n",
    "train_scores, test_scores = validation_curve(\n",
    "                #estimator=pipe_lr,\n",
    "                estimator=clf,\n",
    "                X=X,\n",
    "                y=y,\n",
    "                #param_name='clf__C',#C in LogisticRegression\n",
    "                param_name='n_estimators',\n",
    "                param_range=param_range,\n",
    "                cv=10,\n",
    "                n_jobs=-1\n",
    "                )\n"
   ]
  },
  {
   "cell_type": "code",
   "execution_count": null,
   "metadata": {
    "collapsed": false
   },
   "outputs": [],
   "source": [
    "%matplotlib inline\n",
    "#plot it out\n",
    "train_mean = np.mean(train_scores, axis=1)\n",
    "train_std = np.std(train_scores, axis=1)\n",
    "test_mean = np.mean(test_scores, axis=1)\n",
    "test_std = np.std(test_scores, axis=1)\n",
    "\n",
    "plt.plot(param_range, train_mean,\n",
    "         color='blue', marker='o',\n",
    "         markersize=5, label='training accuracy')\n",
    "\n",
    "plt.fill_between(param_range, train_mean + train_std,\n",
    "                 train_mean - train_std, alpha=0.15,\n",
    "                 color='blue')\n",
    "\n",
    "plt.plot(param_range, test_mean,\n",
    "         color='green', linestyle='--',\n",
    "         marker='s', markersize=5,\n",
    "         label='validation accuracy')\n",
    "\n",
    "plt.fill_between(param_range,\n",
    "                 test_mean + test_std,\n",
    "                 test_mean - test_std,\n",
    "                 alpha=0.15, color='green')\n",
    "\n",
    "plt.grid()\n",
    "plt.xscale('log')\n",
    "plt.legend(loc='lower right')\n",
    "plt.xlabel('n_estimators')\n",
    "plt.ylabel('Accuracy')\n",
    "plt.ylim([0.6, 0.8])\n",
    "plt.tight_layout()\n",
    "# plt.savefig('./figures/validation_curve.png', dpi=300)\n",
    "plt.show()"
   ]
  },
  {
   "cell_type": "markdown",
   "metadata": {
    "collapsed": true
   },
   "source": [
    "# Real TEST DATA"
   ]
  },
  {
   "cell_type": "code",
   "execution_count": null,
   "metadata": {
    "collapsed": false
   },
   "outputs": [],
   "source": [
    "data_csv_path='/Users/jerrychen/Documents/career/oversea/line/line/mine/machinelearning/Machine_Learning_Engineer_Pre-Test_NEW_TEST.zip/problem1_small/source/test-data-small.txt'\n",
    "df_real_test = pd.read_table(data_csv_path, header=None,low_memory=False)\n",
    "print(df_real_test.shape)\n",
    "#del df_real_test[0]\n",
    "df_real_test.head()"
   ]
  },
  {
   "cell_type": "code",
   "execution_count": null,
   "metadata": {
    "collapsed": false
   },
   "outputs": [],
   "source": [
    "print(df_real_test.head())\n",
    "df_real_test[0] = df_real_test[0].apply(preprocessor)\n",
    "print(df_real_test.head())"
   ]
  },
  {
   "cell_type": "code",
   "execution_count": null,
   "metadata": {
    "collapsed": false
   },
   "outputs": [],
   "source": [
    "X_real_test = df_real_test.iloc[:, 0].values\n",
    "print(X_real_test[0])\n",
    "print(X_real_test.shape,type(X_real_test))"
   ]
  },
  {
   "cell_type": "code",
   "execution_count": null,
   "metadata": {
    "collapsed": false
   },
   "outputs": [],
   "source": [
    "from sklearn.feature_extraction.text import CountVectorizer\n",
    "count = CountVectorizer()\n",
    "#print(count)\n",
    "bag = count.fit_transform(X_real_test)\n",
    "print(len(count.vocabulary_),count.vocabulary_)\n",
    "#check the first 1 data\n",
    "print(bag.toarray()[1],bag.toarray().shape)\n",
    "\n",
    "# for keeping connect\n",
    "df_tfidf=pd.DataFrame(bag.toarray().tolist())\n",
    "#print(df_tfidf.shape)\n",
    "df_tfidf.head()\n"
   ]
  },
  {
   "cell_type": "code",
   "execution_count": null,
   "metadata": {
    "collapsed": false
   },
   "outputs": [],
   "source": [
    "del df_tfidf[126]"
   ]
  },
  {
   "cell_type": "code",
   "execution_count": null,
   "metadata": {
    "collapsed": false
   },
   "outputs": [],
   "source": [
    "del df_tfidf[125]\n",
    "df_tfidf.head()"
   ]
  },
  {
   "cell_type": "code",
   "execution_count": null,
   "metadata": {
    "collapsed": false
   },
   "outputs": [],
   "source": [
    "df_tfidf.head()"
   ]
  },
  {
   "cell_type": "code",
   "execution_count": null,
   "metadata": {
    "collapsed": false
   },
   "outputs": [],
   "source": [
    "data_csv_path='/Users/jerrychen/Documents/career/oversea/line/line/mine/machinelearning/Machine_Learning_Engineer_Pre-Test_NEW_TEST.zip/problem1_small/source/test-data-small_full.csv'\n",
    "df_2 = pd.read_csv(data_csv_path, header=None,low_memory=False)\n",
    "print(df_2.shape)\n",
    "df_2.head()"
   ]
  },
  {
   "cell_type": "code",
   "execution_count": null,
   "metadata": {
    "collapsed": false
   },
   "outputs": [],
   "source": [
    "# column 125= (number of non-zero item)/125\n",
    "\n",
    "new_df= (df_tfidf > 0).astype(int).sum(axis=1)\n",
    "#print(type(new_df.to_frame()))\n",
    "new_df=new_df.to_frame()\n",
    "new_df.columns=['125']\n",
    "df_tfidf = pd.concat([df_tfidf,new_df], axis=1)\n",
    "df_tfidf.head()\n",
    "\n",
    "\n",
    "#print(df_tfidf.shape)\n",
    "#df_tfidf.head()"
   ]
  },
  {
   "cell_type": "code",
   "execution_count": null,
   "metadata": {
    "collapsed": false
   },
   "outputs": [],
   "source": [
    "df_tfidf[\"126\"]=0 \n",
    "df_tfidf[\"127\"]=0\n",
    "df_tfidf[\"128\"]=0\n",
    "df_tfidf[\"129\"]=0\n",
    "df_tfidf[\"130\"]=0\n",
    "df_tfidf[\"131\"]=0\n",
    "df_tfidf.head()\n",
    "for index, row in df_2.iterrows():\n",
    "    #print(index)\n",
    "    #total_num=(df_2.iloc[index].str.len() >0).sum()\n",
    "    total_num=(row.str.len() >0).sum()\n",
    "    #print(total_num)\n",
    "\n",
    "    # column 126= (number of item which lenth >= 6 /total)\n",
    "    #long_sum=(df_2.iloc[index].str.len() >=6).sum()\n",
    "    long_sum=(row.str.len() >=6).sum()\n",
    "    #print(long_sum)\n",
    "    #df_tfidf[index]['126']=long_sum\n",
    "    #df_tfidf.loc(index,'126')=long_sum\n",
    "    df_tfidf.set_value(index, '126',long_sum)\n",
    "\n",
    "    # column 128= (number of item which lenth < 4 /total)\n",
    "    #short_sum=( (df_2.iloc[index].str.len() <4  ) ).sum()\n",
    "    short_sum=(row.str.len() < 4).sum()\n",
    "    #print(short_sum)\n",
    "    #df_tfidf.iloc(index,'128')=short_sum\n",
    "    df_tfidf.set_value(index, '128',short_sum)\n",
    "    \n",
    "        \n",
    "    # column 127= (number of item which lenth >= 4 , < 6 /total)\n",
    "    mid_long=total_num-long_sum-short_sum\n",
    "    #print(mid_long)\n",
    "    #df_tfidf.iloc(index,'127')=mid_long\n",
    "    df_tfidf.set_value(index, '127',mid_long)\n",
    "    \n",
    "    # column 129 number of X\n",
    "    #X_count= ( 'X' in df_2.iloc[index].str ).sum()\n",
    "    X_count=(row.str.contains('X')).sum()\n",
    "    df_tfidf.set_value(index, '129',X_count)\n",
    "    \n",
    "    \n",
    "    # column 130 number of Y\n",
    "    Y_count=(row.str.contains('Y')).sum()\n",
    "    df_tfidf.set_value(index, '130',Y_count)\n",
    "    \n",
    "    # column 131 number of Z\n",
    "    Z_count=(row.str.contains('Z')).sum()\n",
    "    df_tfidf.set_value(index, '131',Z_count)\n",
    "    \n",
    "        \n",
    "    \n",
    "df_tfidf.head()"
   ]
  },
  {
   "cell_type": "code",
   "execution_count": null,
   "metadata": {
    "collapsed": false
   },
   "outputs": [],
   "source": [
    "X_real_test_data = df_tfidf.iloc[:, 0:].values\n",
    "print(X_real_test_data[0])\n",
    "print(X_real_test_data.shape,type(X_real_test_data))"
   ]
  },
  {
   "cell_type": "markdown",
   "metadata": {},
   "source": [
    "# input data ready"
   ]
  },
  {
   "cell_type": "code",
   "execution_count": null,
   "metadata": {
    "collapsed": false
   },
   "outputs": [],
   "source": [
    "y_real_test_data_predict=lr.predict(X_real_test_data)\n",
    "\n",
    "print(y_real_test_data_predict.shape)\n",
    "print(type(y_real_test_data_predict))\n",
    "y_real_predict_df = pd.DataFrame(y_real_test_data_predict)\n",
    "y_real_predict_df.head()\n",
    "y_real_predict_df.to_csv('problem1_small_predict_lr.csv',index=0,header=False)"
   ]
  },
  {
   "cell_type": "code",
   "execution_count": null,
   "metadata": {
    "collapsed": true
   },
   "outputs": [],
   "source": [
    "############################"
   ]
  },
  {
   "cell_type": "code",
   "execution_count": null,
   "metadata": {
    "collapsed": false
   },
   "outputs": [],
   "source": [
    "y_real_test_data_predict=clf.predict(X_real_test_data)\n",
    "\n",
    "print(y_real_test_data_predict.shape)\n",
    "print(type(y_real_test_data_predict))\n",
    "y_real_predict_df = pd.DataFrame(y_real_test_data_predict)\n",
    "y_real_predict_df.head()\n",
    "y_real_predict_df.to_csv('problem1_small_predict_ada.csv',index=0,header=False)"
   ]
  },
  {
   "cell_type": "markdown",
   "metadata": {},
   "source": [
    "# check"
   ]
  },
  {
   "cell_type": "code",
   "execution_count": null,
   "metadata": {
    "collapsed": true
   },
   "outputs": [],
   "source": [
    "data_csv_path='/Users/jerrychen/Documents/career/oversea/line/line/mine/machinelearning/Machine_Learning_Engineer_Pre-Test_NEW_TEST.zip/problem1_small/problem1_small_predict_lr.csv'\n",
    "problem1_small_predict_lr = pd.read_csv(data_csv_path, header=None,low_memory=False)"
   ]
  },
  {
   "cell_type": "code",
   "execution_count": null,
   "metadata": {
    "collapsed": true
   },
   "outputs": [],
   "source": [
    "data_csv_path='/Users/jerrychen/Documents/career/oversea/line/line/mine/machinelearning/Machine_Learning_Engineer_Pre-Test_NEW_TEST.zip/problem1_small/problem1_small_predict_ada.csv'\n",
    "problem1_small_predict_ada = pd.read_csv(data_csv_path, header=None,low_memory=False)"
   ]
  },
  {
   "cell_type": "code",
   "execution_count": null,
   "metadata": {
    "collapsed": false
   },
   "outputs": [],
   "source": [
    "problem1_small_predict_lr.equals( problem1_small_predict_ada )"
   ]
  },
  {
   "cell_type": "code",
   "execution_count": null,
   "metadata": {
    "collapsed": false
   },
   "outputs": [],
   "source": [
    "(problem1_small_predict_lr != problem1_small_predict_ada)"
   ]
  }
 ],
 "metadata": {
  "anaconda-cloud": {},
  "kernelspec": {
   "display_name": "Python [Root]",
   "language": "python",
   "name": "Python [Root]"
  },
  "language_info": {
   "codemirror_mode": {
    "name": "ipython",
    "version": 3
   },
   "file_extension": ".py",
   "mimetype": "text/x-python",
   "name": "python",
   "nbconvert_exporter": "python",
   "pygments_lexer": "ipython3",
   "version": "3.5.2"
  }
 },
 "nbformat": 4,
 "nbformat_minor": 0
}
